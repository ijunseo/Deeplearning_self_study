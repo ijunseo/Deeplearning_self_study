{
  "nbformat": 4,
  "nbformat_minor": 0,
  "metadata": {
    "colab": {
      "provenance": [],
      "toc_visible": true,
      "authorship_tag": "ABX9TyO04nlscS2uFsC1ULfdd8Si",
      "include_colab_link": true
    },
    "kernelspec": {
      "name": "python3",
      "display_name": "Python 3"
    },
    "language_info": {
      "name": "python"
    }
  },
  "cells": [
    {
      "cell_type": "markdown",
      "metadata": {
        "id": "view-in-github",
        "colab_type": "text"
      },
      "source": [
        "<a href=\"https://colab.research.google.com/github/ijunseo/Deeplearning_self_study/blob/main/%E6%A9%9F%E6%A2%B0%E5%AD%A6%E7%BF%92%E3%82%A8%E3%83%83%E3%82%BB%E3%83%B3%E3%82%B9%E7%B7%B4%E7%BF%92.ipynb\" target=\"_parent\"><img src=\"https://colab.research.google.com/assets/colab-badge.svg\" alt=\"Open In Colab\"/></a>"
      ]
    },
    {
      "cell_type": "markdown",
      "source": [
        "#Update"
      ],
      "metadata": {
        "id": "E260zopq4ppy"
      }
    },
    {
      "cell_type": "markdown",
      "source": [
        "\n",
        "\n",
        "\n",
        "*   25.01.16 ライブラリーのmethodを中心に読みやすくmarkdownを作成\n",
        "*   25.01.17 matplotの内容追加、numpy.randomの内容追加\n",
        "*   25.01.19 数理最適化の内容を追加\n",
        "*   25.01.21 数理最適化に二次計画法と勾配降下法の内容を追加\n",
        "*   25.01.22 ニュートン法、ラグランジュ未定乗数法の復習と実装について勉強、統計関連内容追加\n"
      ],
      "metadata": {
        "id": "CWdAaYk0QjNA"
      }
    },
    {
      "cell_type": "markdown",
      "source": [
        "#ライブラリー\n"
      ],
      "metadata": {
        "id": "qQyg2cCjySVz"
      }
    },
    {
      "cell_type": "code",
      "source": [
        "import matplotlib.pyplot as plt\n",
        "import numpy as np\n",
        "import scipy\n",
        "import cvxopt"
      ],
      "metadata": {
        "id": "a9OkAB5IyRTL"
      },
      "execution_count": null,
      "outputs": []
    },
    {
      "cell_type": "markdown",
      "source": [
        "#参考\n",
        "[KIYOさんのブログ](https://note.com/kiyo_ai_note/n/n835dd978ea35)\n",
        "\n",
        "[機械学習のエッセンス加藤公一著](https://www.sbcr.jp/product/4797393965/)\n",
        "\n",
        "[詳解ディープラーニング 第2版](https://book.mynavi.jp/ec/products/detail/id=109454)"
      ],
      "metadata": {
        "id": "z-w7aoblAf8X"
      }
    },
    {
      "cell_type": "markdown",
      "source": [
        "#numpy(行列関連）"
      ],
      "metadata": {
        "id": "1tHZxnYUylx0"
      }
    },
    {
      "cell_type": "markdown",
      "source": [
        "\n",
        "\n",
        "```python\n",
        "import numpy as np #numpyをnpとしてインポート\n",
        "```\n"
      ],
      "metadata": {
        "id": "B1tWC8oSyrOx"
      }
    },
    {
      "cell_type": "markdown",
      "source": [
        "##行列生成\n",
        "```python\n",
        "np.empty((3, 6))# 3 x 6の行列を生成（要素はダミーなので一定ではない）\n",
        "np.zeros((2, 2))# 2 x 2の行列を生成（要素が0）\n",
        "np.ones((2, 2))# 2 x 2の行列を生成（要素が1）\n",
        "np.full(([a, b], c)) # a x b行列の要素をすべてc に埋める\n",
        "np.eye((2, 5)) # 2 x 5行列を作って、[a, a] 要素を1 にする行列を作成\n",
        "np.arange(9).reshape(3, 3)# 3 x 3の行列を生成（0 ~ 8までの要素）\n",
        "```\n"
      ],
      "metadata": {
        "id": "u4ewsarjGD-8"
      }
    },
    {
      "cell_type": "markdown",
      "source": [
        "##行列要素確認\n",
        "```python\n",
        "array.shape #(多次元)配列の形状\n",
        "array.dtype #配列内のデータ型\n",
        "array.ndim #配列の次元数(a x bなら 1, a x b x cなら2 ....)\n",
        "array.size #配列全体のパラメータ数(要素の数）\n",
        "```\n"
      ],
      "metadata": {
        "id": "qsw1_fOOGIA1"
      }
    },
    {
      "cell_type": "markdown",
      "source": [
        "##行列積\n",
        "```python\n",
        "np.dot(a, b)\n",
        "a.dot(b)\n",
        "a @ b\n",
        "#行列積計算\n",
        "```\n"
      ],
      "metadata": {
        "id": "6hkLeEcEGKSd"
      }
    },
    {
      "cell_type": "markdown",
      "source": [
        "##行列ソート\n",
        "```python\n",
        "np.sort()#[::-1] #配列を降順にソート\n",
        "a_sort = np.sort(a_2dim) #配列を昇順にソート\n",
        "a_sortax0 = np.sort(a_2dim, axis=0) #行方向に昇順にソート\n",
        "a_sortinv = np.sort(a_2dim)[::-1] #配列を降順にソート\n",
        "a_sort1dim = np.sort(a_2dim, axis=None) #1次元配列に変換\n",
        "a_sortall = np.sort(a_2dim, axis=None).reshape(a_2dim.shape) #1次元配列でソート後にreshapeで形状復元\n",
        "\n",
        "\"\"\"\n",
        "出力\n",
        "array([[  0,  10,  30,  50,  60,  70],\n",
        "       [ 20,  40,  80,  90, 100, 110]])\n",
        "array([[ 60,   0,  20,  30,  50,  10],\n",
        "       [100,  80,  70,  40,  90, 110]])\n",
        "array([[ 20,  40,  80,  90, 100, 110],\n",
        "       [  0,  10,  30,  50,  60,  70]])\n",
        "array([  0,  10,  20,  30,  40,  50,  60,  70,  80,  90, 100, 110])\n",
        "array([[  0,  10,  20,  30,  40,  50],\n",
        "       [ 60,  70,  80,  90, 100, 110]])\n",
        "\"\"\"\n",
        "\n",
        "```\n"
      ],
      "metadata": {
        "id": "qdS9c6SMGOAD"
      }
    },
    {
      "cell_type": "markdown",
      "source": [
        "##転置行列(transpose)\n",
        "```python\n",
        "array.T\n",
        "np.transpose(array)\n",
        "```\n"
      ],
      "metadata": {
        "id": "l-huKbljGR5l"
      }
    },
    {
      "cell_type": "markdown",
      "source": [
        "##条件を満たす値を探す\n",
        "```python\n",
        "np.where(array > 7, 0, 1) #np.where（条件、置き換える値、条件を満たさない要素の値）\n",
        "\n",
        "[Out]\n",
        "array([[1, 1, 1, 1, 1, 1],\n",
        "       [1, 1, 0, 0, 0, 0]])\n",
        "\n",
        "----------------------------------------------------------------\n",
        "a_bool = array > 7 #7超の数値はTrue, 以下はFalse\n",
        "a_up7 = array[array > 7] #7超の数値のみ抽出\n",
        "\n",
        "[Out]\n",
        "array([[False, False, False, False, False, False],\n",
        "       [False, False,  True,  True,  True,  True]])\n",
        "array([ 8,  9, 10, 11])\n",
        "```\n"
      ],
      "metadata": {
        "id": "U0PvA37TGUyV"
      }
    },
    {
      "cell_type": "markdown",
      "source": [
        "##上限下限設定\n",
        "```python\n",
        "np.clip(array,2,7)\n",
        "#2より小さい要素を2に、7より大きい要素を7にする\n",
        "```\n"
      ],
      "metadata": {
        "id": "2yy5jkp1GXbA"
      }
    },
    {
      "cell_type": "markdown",
      "source": [
        "##linalg module\n",
        "\n",
        "```python\n",
        "np.linalg.inv(array)#逆行列\n",
        "np.linalg.solve(array1, array2)# (array1) * x = (array2)を計算する\n",
        "np.linalg.det(array)#行列式\n",
        "eig_val , eig_vec = np.linalg.eig(array)#固有値と固有ベクトル\n",
        "```"
      ],
      "metadata": {
        "id": "W2PgYW45Gayp"
      }
    },
    {
      "cell_type": "markdown",
      "source": [
        "#numpy(その他）"
      ],
      "metadata": {
        "id": "q_2nMdecHdzc"
      }
    },
    {
      "cell_type": "markdown",
      "source": [
        "##統計関連\n",
        "\n",
        "```python\n",
        "#np.--(array) or array.--()\n",
        "np.sum(array)\n",
        "array.sum() #要素の合計\n",
        "np.mean(array)#平均\n",
        "np.var(array)#分散\n",
        "np.std(array)#標準偏差\n",
        "----------\n",
        "#NANを無視した統計\n",
        "np.nansum(array)#NAN値を無視した合計\n",
        "np.nanmean(array)#NAN値を無視した平均\n",
        "----------\n",
        "np.argmax(array)#最大値のindexをreturn\n",
        "np.argmin(array)#最小値のindexをreturn\n",
        "'''\n",
        "2 x 2の場合\n",
        "0 1\n",
        "2 3\n",
        "のindexを持つ\n",
        "'''\n",
        "```\n",
        "\n"
      ],
      "metadata": {
        "id": "uGD_iPB-GY6k"
      }
    },
    {
      "cell_type": "markdown",
      "source": [
        "##乱数（random）\n",
        "```python\n",
        "np.random.seed(a) # seedを設定（seed指定することで再現性を持つ）\n",
        "\n",
        "------------------\n",
        "\n",
        "np.random.rand() # [0, 1)範囲内の乱数を返す\n",
        "#output : 0.9814873822149259\n",
        "np.random.rand(a, b) # a x bの乱数行列を生成\n",
        "np.random.rand(a) # a個の乱数を生成\n",
        "\n",
        "np.random.randint(a, b) # a ~ b random intを生成\n",
        "np.random.randint(a, b, size = (3, 3)) # 3 x 3行列、要素は a ~ bのint\n",
        "```"
      ],
      "metadata": {
        "id": "saspp7QuHhrc"
      }
    },
    {
      "cell_type": "markdown",
      "source": [
        "#scipy"
      ],
      "metadata": {
        "id": "eulpHXLP2JsH"
      }
    },
    {
      "cell_type": "markdown",
      "source": [
        "```python\n",
        "a = scipy.sparse.lil_matrix((4, 5)) # 4 x 5零行列を生成\n",
        "a[1, 1] = 3 # [a, b] = c で a 行 b 列の要素を c にする[1][1]ではない\n",
        "a.toarray() # 行列(array)化する\n",
        "```\n",
        "##LU分解\n",
        "```python\n",
        "scipy.linalg.lu_factor(array)\n",
        "#LU分解を行って2つの結果をreturn\n",
        "#1はLとUを結合して1つの行列にしたもの（行列の積ではない）2はPivot\n",
        "\n",
        "scipy.linalg.lu_solve((return1, return2), vec)\n",
        "```"
      ],
      "metadata": {
        "id": "PZqIUEEb2MUP"
      }
    },
    {
      "cell_type": "markdown",
      "source": [
        "#データ可視化"
      ],
      "metadata": {
        "id": "OrZtCy-VJxo4"
      }
    },
    {
      "cell_type": "markdown",
      "source": [
        "##matplotlib\n",
        "```python\n",
        "#インポート\n",
        "import matplotlib.pyplot as plt\n",
        "```\n",
        "```python\n",
        "#線の形\n",
        "plt.--.(x, y, color = \"-\", linestyle = (形))\n",
        "```\n",
        "```python\n",
        "#subplots\n",
        "```\n",
        "![](https://cdn-ak.f.st-hatena.com/images/fotolife/Y/YutaKa/20210119/20210119163727.png)\n"
      ],
      "metadata": {
        "id": "lNSCs5LLJ3om"
      }
    },
    {
      "cell_type": "markdown",
      "source": [
        "###折れ線\n",
        "```python\n",
        "# x, yが点\n",
        "plt.plot(x, y, color = \"r\")\n",
        "plt.plot(x, y, 'r')\n",
        "```"
      ],
      "metadata": {
        "id": "ra0oWGADJ632"
      }
    },
    {
      "cell_type": "markdown",
      "source": [
        "###散布図\n",
        "```python\n",
        "plt.scatter(x, y, color = \"r\")\n",
        "```"
      ],
      "metadata": {
        "id": "CUphDyIFJ_jI"
      }
    },
    {
      "cell_type": "markdown",
      "source": [
        "###曲線グラフ\n",
        "\n",
        "```python\n",
        "#x, yが連続データ\n",
        "plt.plot(x, y, color = \"r\")\n",
        "\"\"\"\n",
        "例\n",
        "x = np.linspace(-10, 10, 500)\n",
        "y = x ** 2\n",
        "\"\"\"\n",
        "```\n"
      ],
      "metadata": {
        "id": "ylKjOmSYKEJ0"
      }
    },
    {
      "cell_type": "markdown",
      "source": [
        "###ヒストグラム\n",
        "```python\n",
        "plt.hist(list, 範囲の個数, color = \"...\")\n",
        "```"
      ],
      "metadata": {
        "id": "JvKugNDLKSCQ"
      }
    },
    {
      "cell_type": "markdown",
      "source": [
        "#数理最適化"
      ],
      "metadata": {
        "id": "92-1U1WJbFum"
      }
    },
    {
      "cell_type": "markdown",
      "source": [
        "##線形計画問題(scipy optimize)\n",
        "\n",
        "線形的制約条件を見たす線形目的関数を最適化する\n",
        "\n",
        "```python\n",
        "'''\n",
        "ex)\n",
        "x + 4y <= 1700 ・・・ 式 1\n",
        "2x + 3y <= 1400 ・・・ 式 2\n",
        "2x + y <= 1000 ・・・ 式 3\n",
        "x >= 0 ・・・ 式 4\n",
        "y >= 0 ・・・ 式 5\n",
        "の制約条件を満たす\n",
        "3x + 4yのmax値は？\n",
        "'''\n",
        "\n",
        "#解法\n",
        "#3x + 4y -> max は　3x + 4y -> minを求めることに言い換える。\n",
        "from scipy import optimize\n",
        "import numpy as np\n",
        "c = np.array([-3, -4])\n",
        "G = np.array([[1, 4],[2, 3],[2, 1]])# ・・・ 式 1 ~ 3\n",
        "h = np.array([1700, 1400, 1000])\n",
        "solv = optimize.linprog(c, A_ub = G, b_ub = h, bounds = (0, None)\n",
        "#(0, None) can be [(0, None), (0, None)] -  ・・・ 式 4~ 5\n",
        "\n",
        "print(solv.x)\n",
        "print(solv.fun)\n",
        "\n",
        "'''\n",
        "出力\n",
        "[400. 200.]\n",
        "- 1999.9999999999998\n",
        "'''\n",
        "```\n",
        "```python\n",
        "scipy.optimize\n",
        "\n",
        "c : 目的関数の係数を示すarray\n",
        "\n",
        "A_ub, b_ub : 制約条件の線形不等式(<=)の係数\n",
        "# Ax <= bの関係\n",
        "\n",
        "A_eq, b_eq : 制約条件の線形等式(=)の関係\n",
        "# Ax = b\n",
        "\n",
        "bounds : 変数の範囲各々の変数別に(min, max)のboundを設定\n",
        "# (0, None) can be [(0, None), (0, None)] -  ・・・ 式 4~ 5\n",
        "\n",
        "method : 解決方法で'highs', 'revised simplex', 'simplex'があり、基本設定は'highs'\n",
        "  ```"
      ],
      "metadata": {
        "id": "VaKBFo3obJ1d"
      }
    },
    {
      "cell_type": "markdown",
      "source": [
        "##二次計画法(cvxopt)\n",
        "\n",
        "$\\ \\frac{1}{2}  x^{T}Px + q^{T}x  $は\n",
        "\n",
        "$\\ x^2 + xy + y^2 + 2x + 4y$だとすると、\n",
        "\n",
        "$P =  \\begin{bmatrix}2 & 1 \\\\1 & 2 \\end{bmatrix} $\n",
        "\n",
        "$q = \\begin{bmatrix}2 \\\\4 \\end{bmatrix} $になる\n",
        "\n",
        "この時の最小値を求めると\n",
        "\n",
        "```python\n",
        "P = cvxopt.matrix(np.array[[2, 1], [1, 2]])\n",
        "q = cvxopt.matrix(np.array[[2], [4]])\n",
        "\n",
        "sol = cvxopt.solvers.qp(P, q)\n",
        "\n",
        "np.array(sol[\"x\"]) #最小値になる解(x ,y)を 1 x 2の行列で生成される\n",
        "np.array(sol[\"primal objective\"]) #最小値\n",
        "```\n",
        "\n",
        "条件付きの場合、例えば\n",
        "\n",
        "$ Ax = b, Gx <= h$の条件があると\n",
        "\n",
        "式1.\n",
        "\n",
        "Minimize $f{(x, y)} = x^2 + xy + y^2 + 2x + 4y$\n",
        "\n",
        "Subject to $ x + y = 0$\n",
        "\n",
        "式2.\n",
        "\n",
        "Minimize $f{(x, y)} = x^2 + xy + y^2 + 2x + 4y$\n",
        "\n",
        "Subject to $ 2x + 3y <= 3$\n",
        "\n",
        "```python\n",
        "P = cvxopt.matrix(np.array[[2, 1], [1, 2]])\n",
        "q = cvxopt.matrix(np.array[[2], [4]])\n",
        "\n",
        "#式1\n",
        "A = cvxopt.matrix(np.array[[1, 1]]])\n",
        "b = cvxopt.matrix(np.array[0])\n",
        "sol = cvxopt.solvers.qp(P, q, A = A, b = b)\n",
        "\n",
        "#式2\n",
        "G = cvxopt.matrix(np.array[[1, 1]]])\n",
        "h = cvxopt.matrix(np.array[0])\n",
        "sol = cvxopt.solvers.qp(P, q, G =G, h = h)\n",
        "#制限条件の式が多いとGx <= hを満たすように変形して行列を入力\n",
        "```"
      ],
      "metadata": {
        "id": "ttNgozBux9S6"
      }
    },
    {
      "cell_type": "markdown",
      "source": [
        "##勾配降下法\n",
        "\n",
        "関数の初期点の座標を(a, b)とする。\n",
        "\n",
        "また、この関数は z = x ^ 2 + y ^ 2のようにへこんでるとこが存在すると仮定する。\n",
        "\n",
        "任意の(a, b)の勾配は\n",
        "\n",
        "$ \\frac{\\partial f}{\\partial x} $と\n",
        "\n",
        "$ \\frac{\\partial f}{\\partial y} $である。\n",
        "\n",
        "この際にの漸化式は $  x_{k + 1} =  x_{k}- a \\nabla f{(x_k)}  $である。\n",
        "\n",
        "ここでaは学習率(Learning rate)で点の勾配行列$ \\nabla $に対してどのくらいの倍率で座標を変換させるかを示す。\n",
        "\n",
        "しかし、aが大きすぎると最適な解を超えて答えが収束できない問題が生じる可能性がある。\n",
        "\n",
        "また、aが小さすぎるとLocal minimaに最適解が収束する、計算量が増えて無駄に時間がかかりすぎる問題がある。\n",
        "\n",
        "よって、丁度良い（時間量も多すぎずLocal minimaにならない、収束ができる学習率aを探すのが重要。\n",
        "\n",
        "![](https://raw.githubusercontent.com/angeloyeo/angeloyeo.github.io/master/pics/2020-08-16-gradient_descent/pic5.png)\n",
        "\n",
        "\n",
        "また、$\\|x_{k+1} - x_k\\| < \\epsilon$のように更新される値がある値以下になると関数を終了する条件の設定も重要。\n",
        "\n",
        "その理由は $\\epsilon$ が大きすぎると実際点が収束する前に関数が終ってしまうのと小さすぎると関数が無限ループに入ってしまう可能性があるからである。"
      ],
      "metadata": {
        "id": "vcTEH1H2ur7c"
      }
    },
    {
      "cell_type": "markdown",
      "source": [
        "##多次元でのニュートン法\n",
        "\n",
        "$f_1(x, y) = x^3 - 2y = 0 $ ・・・式1\n",
        "\n",
        "$f_2(x, y) = x^2 + y^2 - 1 = 0 $ ・・・式2\n",
        "\n",
        "この時のヤコビアン行列は\n",
        "\n",
        "$J_f(x) =  \\begin{bmatrix}\\frac{\\partial f_1}{\\partial x} & \\frac{\\partial f_1}{\\partial y} \\\\\\frac{\\partial f_2}{\\partial x} & \\frac{\\partial f_2}{\\partial y} \\end{bmatrix}  $\n",
        "\n",
        "上の式より\n",
        "\n",
        "$x_{k+ 1} = x_k - J_f(x_k)^{-1}f(x_k)$\n",
        "\n"
      ],
      "metadata": {
        "id": "gmYog-eX2Od_"
      }
    },
    {
      "cell_type": "markdown",
      "source": [
        "##ラグランジュ未定乗数法\n",
        "\n",
        "\n",
        "Minimize $f(x, y) = 5x^2 + 6xy + 5y^2 - 26x -26y$\n",
        "\n",
        "Subject to $g(x, y) = x^2 + y^2 - 4 = 0$\n",
        "\n",
        "この式を\n",
        "\n",
        "$L(x, y, λ) = f(x, y) + λg(x, y)$\n",
        "\n",
        "$= 5x^2 + 6xy + 5y^2 - 26x - 26y + λ(x^2 + y ^2 - 4)$\n",
        "\n",
        "$∇L(x, y, λ) = 0 $ が成り立つ\n",
        "\n",
        "よって\\begin{bmatrix}\\frac{\\partial L}{\\partial x} \\\\\\frac{\\partial L}{\\partial y}\\\\\\frac{\\partial L}{\\partial λ} \\end{bmatrix}\n",
        "\n",
        "が$ = ∇L = 0$を満たす。\n",
        "\n",
        "その$x, y, λ$を探したら良い。\n",
        "\n"
      ],
      "metadata": {
        "id": "w4XbuVcG4pFf"
      }
    },
    {
      "cell_type": "markdown",
      "source": [
        "#統計関連"
      ],
      "metadata": {
        "id": "imlgBfti7Xns"
      }
    },
    {
      "cell_type": "markdown",
      "source": [
        "###統計関連(numpyより)\n",
        "\n",
        "```python\n",
        "#np.--(array) or array.--()\n",
        "np.sum(array)\n",
        "array.sum() #要素の合計\n",
        "np.mean(array)#平均\n",
        "np.var(array)#分散\n",
        "np.std(array)#標準偏差\n",
        "----------\n",
        "#NANを無視した統計\n",
        "np.nansum(array)#NAN値を無視した合計\n",
        "np.nanmean(array)#NAN値を無視した平均\n",
        "----------\n",
        "np.argmax(array)#最大値のindexをreturn\n",
        "np.argmin(array)#最小値のindexをreturn\n",
        "'''\n",
        "2 x 2の場合\n",
        "0 1\n",
        "2 3\n",
        "のindexを持つ\n",
        "'''\n",
        "```\n",
        "\n"
      ],
      "metadata": {
        "id": "pWMWgTek8X8-"
      }
    },
    {
      "cell_type": "markdown",
      "source": [
        "###正規分布関連(scipy. .. .norm)\n",
        "\n",
        "```python\n",
        "from scipy.stats import norm\n",
        "\n",
        "y = norm.pdf(x, loc = 1, scale = 2)\n",
        "#座標表面のxの範囲はxで指定\n",
        "#loc = μ = 平均\n",
        "#scale = σ = 標準偏差\n",
        "```\n",
        "\n",
        "```python\n",
        "#確率密度関数の積分強度\n",
        "y = norm.cdf(1.96) - norm.cdf(-1.96)\n",
        "#0.950004209703559 = 95%の信頼区間\n",
        "#x = 1, x = -1の時の確率密度関数の積分地\n",
        "```"
      ],
      "metadata": {
        "id": "ls45Zy7M8b14"
      }
    },
    {
      "cell_type": "markdown",
      "source": [
        "#5章~"
      ],
      "metadata": {
        "id": "Dua-UufY99PH"
      }
    },
    {
      "cell_type": "markdown",
      "source": [
        "#1~4章"
      ],
      "metadata": {
        "id": "U14V9e3Kxu3B"
      }
    },
    {
      "cell_type": "code",
      "source": [
        "from scipy.stats import norm\n",
        "import numpy as np\n",
        "\n",
        "x = np.linspace(-5, 5)\n",
        "y = norm.cdf(1.96) - norm.cdf(-1.96)\n",
        "print(y)"
      ],
      "metadata": {
        "colab": {
          "base_uri": "https://localhost:8080/"
        },
        "id": "T9NeKnFU9ctw",
        "outputId": "ff80b435-41f8-4c7c-9ddd-452d7e906ccc"
      },
      "execution_count": 2,
      "outputs": [
        {
          "output_type": "stream",
          "name": "stdout",
          "text": [
            "0.950004209703559\n"
          ]
        }
      ]
    },
    {
      "cell_type": "code",
      "source": [
        "import numpy as np\n",
        "\n",
        "class percep(object):\n",
        "    def __init__(self, input_dim):\n",
        "        self.input_dim = input_dim\n",
        "        self.d = np.random.normal(size = (input_dim,))\n",
        "        self.b = 0\n",
        "\n",
        "    def forward(self, x):\n",
        "        return np.dot(self.d, x) + self.b\n",
        "\n",
        "    def com_delta(self, x, t):\n",
        "        y = self.forward(x)\n",
        "        delta = y - t\n",
        "        dw = delta * x\n",
        "        db = delta\n",
        "        return dw, db\n",
        "\n",
        "def step(x):\n",
        "    return 1 * (x > 0)\n"
      ],
      "metadata": {
        "id": "Fc8bi3Nfx3Py"
      },
      "execution_count": null,
      "outputs": []
    },
    {
      "cell_type": "code",
      "source": [
        "d = 2\n",
        "N = 100\n",
        "\n",
        "mean = 5\n",
        "\n",
        "x1 = np.random.randn(N // 2, d) + np.array([0, 0])\n",
        "x2 = np.random.randn(N // 2, d) + np.array([mean, mean])\n",
        "\n",
        "t1 = np.zeros(N // 2)\n",
        "t2 = np.ones(N // 2)\n",
        "\n",
        "x = np.concatenate((x1, x2), axis = 0)\n",
        "t = np.concatenate((t1, t2))"
      ],
      "metadata": {
        "id": "FPmD9Abx3VST"
      },
      "execution_count": null,
      "outputs": []
    },
    {
      "cell_type": "code",
      "source": [
        "import matplotlib.pyplot as plt\n",
        "plt.scatter(x[:, 0], x[:, 1], c = t)\n",
        "plt.show()"
      ],
      "metadata": {
        "colab": {
          "base_uri": "https://localhost:8080/",
          "height": 430
        },
        "id": "E0idrUoF37cF",
        "outputId": "2dce7911-7a90-41d4-db7c-f64cd10ec058"
      },
      "execution_count": null,
      "outputs": [
        {
          "output_type": "display_data",
          "data": {
            "text/plain": [
              "<Figure size 640x480 with 1 Axes>"
            ],
            "image/png": "[encoded data removed]"
          },
          "metadata": {}
        }
      ]
    },
    {
      "cell_type": "code",
      "source": [
        "model = percep(d)\n",
        "eta = 0.1"
      ],
      "metadata": {
        "id": "UHRpFSPK4Crl"
      },
      "execution_count": null,
      "outputs": []
    },
    {
      "cell_type": "code",
      "source": [
        "\n",
        "#解法\n",
        "#3x + 4y -> max は　3x + 4y -> minを求めることに言い換える。\n",
        "from scipy import optimize\n",
        "import numpy as np\n",
        "c = np.array([-3, -4], dtype = np.float64)\n",
        "G = np.array([[1, 4],[2, 3],[2, 1]], dtype = np.float64)# ・・・ 式 1 ~ 3\n",
        "h = np.array([1700, 1400, 1000], dtype = np.float64)\n",
        "solv = optimize.linprog(c, A_ub = G, b_ub = h, bounds = (0, None))\n",
        "#(0, None) can be [(0, None), (0, None)] -  ・・・ 式 4~ 5\n",
        "\n",
        "print(solv.x)\n",
        "print(-solv.fun)"
      ],
      "metadata": {
        "colab": {
          "base_uri": "https://localhost:8080/"
        },
        "id": "MoCbJQs1gScr",
        "outputId": "d223cdda-a12d-45a7-e822-2b210e7c7777"
      },
      "execution_count": null,
      "outputs": [
        {
          "output_type": "stream",
          "name": "stdout",
          "text": [
            "[400. 200.]\n",
            "1999.9999999999998\n"
          ]
        }
      ]
    },
    {
      "cell_type": "code",
      "execution_count": null,
      "metadata": {
        "colab": {
          "base_uri": "https://localhost:8080/",
          "height": 430
        },
        "id": "vJpTtzEnxjv0",
        "outputId": "8c74f576-ef5b-457f-c65f-1b150534e818"
      },
      "outputs": [
        {
          "output_type": "display_data",
          "data": {
            "text/plain": [
              "<Figure size 640x480 with 1 Axes>"
            ],
            "image/png": "[encoded data removed]"
          },
          "metadata": {}
        }
      ],
      "source": [
        "import matplotlib.pyplot as plt\n",
        "import numpy as np\n",
        "\n",
        "x = np.linspace(-5, 5)\n",
        "y = x ** 2\n",
        "plt.plot(x, y)\n",
        "plt.show()"
      ]
    },
    {
      "cell_type": "code",
      "source": [
        "class person:\n",
        "    def __init__(self, name, age):\n",
        "        self.name = name\n",
        "        self.age = age\n",
        "\n",
        "student = person('A', 4)\n",
        "print(student.name)\n",
        "print(student.age)"
      ],
      "metadata": {
        "colab": {
          "base_uri": "https://localhost:8080/"
        },
        "id": "CihjdfJuyIGn",
        "outputId": "cfb4bfab-5cfc-481c-e43c-ec11c6cda558"
      },
      "execution_count": null,
      "outputs": [
        {
          "output_type": "stream",
          "name": "stdout",
          "text": [
            "A\n",
            "4\n"
          ]
        }
      ]
    },
    {
      "cell_type": "code",
      "source": [
        "s = 0\n",
        "for i in range(1000):\n",
        "    s += 0.001\n",
        "s"
      ],
      "metadata": {
        "colab": {
          "base_uri": "https://localhost:8080/"
        },
        "id": "f06Eg8a9yKF2",
        "outputId": "2d26e508-8f66-4471-ff70-0d6fbb291072"
      },
      "execution_count": null,
      "outputs": [
        {
          "output_type": "execute_result",
          "data": {
            "text/plain": [
              "1.0000000000000007"
            ]
          },
          "metadata": {},
          "execution_count": 3
        }
      ]
    },
    {
      "cell_type": "code",
      "source": [
        "new_array = np.empty((3, 6))#要素が0でないことに注意\n",
        "new_array"
      ],
      "metadata": {
        "colab": {
          "base_uri": "https://localhost:8080/"
        },
        "id": "XIXdBhepyK1u",
        "outputId": "382d0e45-4d0f-4cb5-c586-9d640e11e6eb"
      },
      "execution_count": null,
      "outputs": [
        {
          "output_type": "execute_result",
          "data": {
            "text/plain": [
              "array([[ 3.22090466e-316,  0.00000000e+000,  1.61501212e-243,\n",
              "        -1.74287009e-038,  6.82736430e+038, -1.59019978e+213],\n",
              "       [-1.77108776e+299,  1.72532640e-254,  6.35987556e-176,\n",
              "         1.05591916e-086,  1.34174322e-062,  3.04382637e-144],\n",
              "       [ 8.68831098e-294, -2.83472953e-059, -5.03451380e+303,\n",
              "         2.40783594e-286, -5.75898165e+172,  1.09383081e-302]])"
            ]
          },
          "metadata": {},
          "execution_count": 4
        }
      ]
    },
    {
      "cell_type": "code",
      "source": [
        "new_array = np.zeros((2, 2))#要素が0\n",
        "new_array"
      ],
      "metadata": {
        "colab": {
          "base_uri": "https://localhost:8080/"
        },
        "id": "4MDKX6SHyQRJ",
        "outputId": "4c796d3f-f572-4f55-84d5-68aa6983b200"
      },
      "execution_count": null,
      "outputs": [
        {
          "output_type": "execute_result",
          "data": {
            "text/plain": [
              "array([[0., 0.],\n",
              "       [0., 0.]])"
            ]
          },
          "metadata": {},
          "execution_count": 6
        }
      ]
    },
    {
      "cell_type": "code",
      "source": [
        "new_array = np.ones((2, 2))\n",
        "new_array"
      ],
      "metadata": {
        "colab": {
          "base_uri": "https://localhost:8080/"
        },
        "id": "72aICK2oyeV6",
        "outputId": "cc9a3c66-aa60-454e-f77d-5c9a72d8deea"
      },
      "execution_count": null,
      "outputs": [
        {
          "output_type": "execute_result",
          "data": {
            "text/plain": [
              "array([[1., 1.],\n",
              "       [1., 1.]])"
            ]
          },
          "metadata": {},
          "execution_count": 7
        }
      ]
    },
    {
      "cell_type": "code",
      "source": [
        "new_array = np.linspace(0, 100, 21)\n",
        "new_array"
      ],
      "metadata": {
        "colab": {
          "base_uri": "https://localhost:8080/"
        },
        "id": "Odc1bHIZyg59",
        "outputId": "fd584a53-719e-4665-b0d9-c8f5eca92e7b"
      },
      "execution_count": null,
      "outputs": [
        {
          "output_type": "execute_result",
          "data": {
            "text/plain": [
              "array([  0.,   5.,  10.,  15.,  20.,  25.,  30.,  35.,  40.,  45.,  50.,\n",
              "        55.,  60.,  65.,  70.,  75.,  80.,  85.,  90.,  95., 100.])"
            ]
          },
          "metadata": {},
          "execution_count": 8
        }
      ]
    },
    {
      "cell_type": "code",
      "source": [
        "a = np.arange(9).reshape(3, 3)\n",
        "print(a)\n",
        "b = np.arange(3, 12).reshape(3, 3)\n",
        "print(b)"
      ],
      "metadata": {
        "colab": {
          "base_uri": "https://localhost:8080/"
        },
        "id": "aZssw5cSyiPl",
        "outputId": "65c106f2-78a0-475e-c91a-61da5ff04a55"
      },
      "execution_count": null,
      "outputs": [
        {
          "output_type": "stream",
          "name": "stdout",
          "text": [
            "[[0 1 2]\n",
            " [3 4 5]\n",
            " [6 7 8]]\n",
            "[[ 3  4  5]\n",
            " [ 6  7  8]\n",
            " [ 9 10 11]]\n"
          ]
        }
      ]
    },
    {
      "cell_type": "code",
      "source": [
        "c = a@b#行列掛け算\n",
        "print(c)"
      ],
      "metadata": {
        "colab": {
          "base_uri": "https://localhost:8080/"
        },
        "id": "iFx2HJ1xyj4W",
        "outputId": "e8ddcd16-ae68-4f0f-c439-22115d8a4b91"
      },
      "execution_count": null,
      "outputs": [
        {
          "output_type": "stream",
          "name": "stdout",
          "text": [
            "[[ 24  27  30]\n",
            " [ 78  90 102]\n",
            " [132 153 174]]\n"
          ]
        }
      ]
    },
    {
      "cell_type": "code",
      "source": [
        "matrix_multiplication = np.dot(a, b)\n",
        "newmat = a.dot(b)\n",
        "newmat1 = a@b\n",
        "print(matrix_multiplication)\n",
        "print(newmat)\n",
        "print(newmat1)"
      ],
      "metadata": {
        "colab": {
          "base_uri": "https://localhost:8080/"
        },
        "id": "tfMbif7-0EDq",
        "outputId": "69bad8a7-0c13-4b4c-b8fe-80fa087b101c"
      },
      "execution_count": null,
      "outputs": [
        {
          "output_type": "stream",
          "name": "stdout",
          "text": [
            "[[ 24  27  30]\n",
            " [ 78  90 102]\n",
            " [132 153 174]]\n",
            "[[ 24  27  30]\n",
            " [ 78  90 102]\n",
            " [132 153 174]]\n",
            "[[ 24  27  30]\n",
            " [ 78  90 102]\n",
            " [132 153 174]]\n"
          ]
        }
      ]
    },
    {
      "cell_type": "code",
      "source": [
        "a = scipy.sparse.lil_matrix((4, 5))\n",
        "a[1, 2] = 3\n",
        "a.toarray()\n"
      ],
      "metadata": {
        "colab": {
          "base_uri": "https://localhost:8080/"
        },
        "id": "5X83zqL62Qkf",
        "outputId": "6e13505f-257b-41e8-d95c-94ceb198ecba"
      },
      "execution_count": null,
      "outputs": [
        {
          "output_type": "execute_result",
          "data": {
            "text/plain": [
              "array([[0., 0., 0., 0., 0.],\n",
              "       [0., 0., 3., 0., 0.],\n",
              "       [0., 0., 0., 0., 0.],\n",
              "       [0., 0., 0., 0., 0.]])"
            ]
          },
          "metadata": {},
          "execution_count": 28
        }
      ]
    },
    {
      "cell_type": "code",
      "source": [
        "a1 = a.tocsr()\n",
        "a1"
      ],
      "metadata": {
        "colab": {
          "base_uri": "https://localhost:8080/"
        },
        "id": "S6e6rNiL5R0A",
        "outputId": "b6f92d18-0e00-4bb4-af6f-077f5435b863"
      },
      "execution_count": null,
      "outputs": [
        {
          "output_type": "execute_result",
          "data": {
            "text/plain": [
              "<4x5 sparse matrix of type '<class 'numpy.float64'>'\n",
              "\twith 0 stored elements in Compressed Sparse Row format>"
            ]
          },
          "metadata": {},
          "execution_count": 20
        }
      ]
    },
    {
      "cell_type": "code",
      "source": [
        "print(f\"data: {a1.data}\")"
      ],
      "metadata": {
        "colab": {
          "base_uri": "https://localhost:8080/"
        },
        "id": "krmFCZlZ5Zql",
        "outputId": "1f0b5dbe-7107-446f-9343-426756a66116"
      },
      "execution_count": null,
      "outputs": [
        {
          "output_type": "stream",
          "name": "stdout",
          "text": [
            "data: []\n"
          ]
        }
      ]
    },
    {
      "cell_type": "code",
      "source": [
        "a = [[1,2,3,5,7,9,10,11],\n",
        "             [1,2,3,5,7,9,10,12]]\n",
        "\n",
        "\n",
        "print('argmax:', np.argmax(a),'argmin:', np.argmin(a)) #最大値のindex番号, 最小値のindex番号\n"
      ],
      "metadata": {
        "colab": {
          "base_uri": "https://localhost:8080/"
        },
        "id": "Su5A8CNI64cF",
        "outputId": "b6db7f1f-2b75-4e3b-e389-c9f6e21da781"
      },
      "execution_count": null,
      "outputs": [
        {
          "output_type": "stream",
          "name": "stdout",
          "text": [
            "argmax: 15 argmin: 0\n"
          ]
        }
      ]
    },
    {
      "cell_type": "code",
      "source": [
        "import numpy as np\n",
        "from scipy.linalg import lu_factor, lu_solve\n",
        "\n",
        "# 행렬 a 정의\n",
        "a = np.array([[3, 1, 2],\n",
        "              [6, 3, 4],\n",
        "              [3, 2, 1]], dtype=float)\n",
        "\n",
        "# LU 분해 수행\n",
        "lu, piv = lu_factor(a)\n",
        "\n",
        "print(\"LU 행렬:\\n\", lu)\n",
        "print(\"Pivot 인덱스:\\n\", piv)\n",
        "\n",
        "print(\"LU:\", piv @ lu)\n",
        "# 추가로 LU 분해로부터 해법을 찾을 수 있음\n",
        "b = np.array([1, 2, 3], dtype=float)  # 예를 위한 b\n",
        "x = lu_solve((lu, piv), b)  # LU 분해된 행렬과 b를 사용하여 x를 구함\n",
        "print(\"해법 x:\\n\", x)"
      ],
      "metadata": {
        "colab": {
          "base_uri": "https://localhost:8080/"
        },
        "id": "gDL0NkDPL1zw",
        "outputId": "67fc4817-5644-457b-f7c9-b5b4ed6ee538"
      },
      "execution_count": null,
      "outputs": [
        {
          "output_type": "stream",
          "name": "stdout",
          "text": [
            "LU 행렬:\n",
            " [[ 6.   3.   4. ]\n",
            " [ 0.5 -0.5  0. ]\n",
            " [ 0.5 -1.  -1. ]]\n",
            "Pivot 인덱스:\n",
            " [1 1 2]\n",
            "LU: [7.5 0.5 2. ]\n",
            "해법 x:\n",
            " [ 1.66666667 -0.         -2.        ]\n"
          ]
        }
      ]
    },
    {
      "cell_type": "code",
      "source": [
        "x = np.linspace(-10, 10, 500)\n",
        "y = x ** 2\n",
        "fig, ax = plt.subplots()\n",
        "ax.plot(x, y, 'r--')"
      ],
      "metadata": {
        "colab": {
          "base_uri": "https://localhost:8080/",
          "height": 448
        },
        "id": "foKQm90xORG0",
        "outputId": "5646cc3c-d792-415f-9973-949360895ab9"
      },
      "execution_count": null,
      "outputs": [
        {
          "output_type": "execute_result",
          "data": {
            "text/plain": [
              "[<matplotlib.lines.Line2D at 0x780a67c3a6d0>]"
            ]
          },
          "metadata": {},
          "execution_count": 16
        },
        {
          "output_type": "display_data",
          "data": {
            "text/plain": [
              "<Figure size 640x480 with 1 Axes>"
            ],
            "image/png": "[encoded data removed]"
          },
          "metadata": {}
        }
      ]
    }
  ]
}